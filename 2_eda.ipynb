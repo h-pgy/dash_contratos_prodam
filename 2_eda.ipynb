{
 "cells": [
  {
   "cell_type": "markdown",
   "metadata": {},
   "source": [
    "## Análise exploratória de dados"
   ]
  },
  {
   "cell_type": "code",
   "execution_count": 7,
   "metadata": {},
   "outputs": [],
   "source": [
    "from utils.serialize_df import read_parquet_df\n",
    "\n",
    "import pandas as pd"
   ]
  },
  {
   "cell_type": "code",
   "execution_count": 8,
   "metadata": {},
   "outputs": [],
   "source": [
    "df = read_parquet_df('contratos_prodam.parquet')"
   ]
  },
  {
   "cell_type": "code",
   "execution_count": 9,
   "metadata": {},
   "outputs": [
    {
     "data": {
      "text/html": [
       "<div>\n",
       "<style scoped>\n",
       "    .dataframe tbody tr th:only-of-type {\n",
       "        vertical-align: middle;\n",
       "    }\n",
       "\n",
       "    .dataframe tbody tr th {\n",
       "        vertical-align: top;\n",
       "    }\n",
       "\n",
       "    .dataframe thead th {\n",
       "        text-align: right;\n",
       "    }\n",
       "</style>\n",
       "<table border=\"1\" class=\"dataframe\">\n",
       "  <thead>\n",
       "    <tr style=\"text-align: right;\">\n",
       "      <th></th>\n",
       "      <th>valReajustes</th>\n",
       "      <th>codModalidade</th>\n",
       "      <th>valAditamentos</th>\n",
       "      <th>codContrato</th>\n",
       "      <th>valLiquidado</th>\n",
       "      <th>valPago</th>\n",
       "      <th>valAnulacao</th>\n",
       "      <th>valEmpenhadoLiquido</th>\n",
       "      <th>valTotalEmpenhado</th>\n",
       "      <th>anoContrato</th>\n",
       "      <th>valAnuladoEmpenho</th>\n",
       "      <th>valPrincipal</th>\n",
       "    </tr>\n",
       "  </thead>\n",
       "  <tbody>\n",
       "    <tr>\n",
       "      <th>count</th>\n",
       "      <td>50.00000</td>\n",
       "      <td>50.000000</td>\n",
       "      <td>5.000000e+01</td>\n",
       "      <td>50.000000</td>\n",
       "      <td>5.000000e+01</td>\n",
       "      <td>5.000000e+01</td>\n",
       "      <td>5.000000e+01</td>\n",
       "      <td>5.000000e+01</td>\n",
       "      <td>5.000000e+01</td>\n",
       "      <td>50.0</td>\n",
       "      <td>5.000000e+01</td>\n",
       "      <td>5.000000e+01</td>\n",
       "    </tr>\n",
       "    <tr>\n",
       "      <th>mean</th>\n",
       "      <td>2029.16720</td>\n",
       "      <td>6.080000</td>\n",
       "      <td>3.084040e+05</td>\n",
       "      <td>15989.620000</td>\n",
       "      <td>2.039053e+06</td>\n",
       "      <td>1.930142e+06</td>\n",
       "      <td>1.723068e+09</td>\n",
       "      <td>4.052518e+06</td>\n",
       "      <td>5.802262e+06</td>\n",
       "      <td>2024.0</td>\n",
       "      <td>1.749744e+06</td>\n",
       "      <td>1.728810e+09</td>\n",
       "    </tr>\n",
       "    <tr>\n",
       "      <th>std</th>\n",
       "      <td>12981.39342</td>\n",
       "      <td>0.395897</td>\n",
       "      <td>1.854287e+06</td>\n",
       "      <td>13319.924566</td>\n",
       "      <td>5.521347e+06</td>\n",
       "      <td>5.444506e+06</td>\n",
       "      <td>1.218393e+10</td>\n",
       "      <td>9.071614e+06</td>\n",
       "      <td>1.310308e+07</td>\n",
       "      <td>0.0</td>\n",
       "      <td>5.719006e+06</td>\n",
       "      <td>1.218392e+10</td>\n",
       "    </tr>\n",
       "    <tr>\n",
       "      <th>min</th>\n",
       "      <td>0.00000</td>\n",
       "      <td>6.000000</td>\n",
       "      <td>0.000000e+00</td>\n",
       "      <td>18.000000</td>\n",
       "      <td>0.000000e+00</td>\n",
       "      <td>0.000000e+00</td>\n",
       "      <td>0.000000e+00</td>\n",
       "      <td>0.000000e+00</td>\n",
       "      <td>0.000000e+00</td>\n",
       "      <td>2024.0</td>\n",
       "      <td>0.000000e+00</td>\n",
       "      <td>4.354770e+03</td>\n",
       "    </tr>\n",
       "    <tr>\n",
       "      <th>25%</th>\n",
       "      <td>0.00000</td>\n",
       "      <td>6.000000</td>\n",
       "      <td>0.000000e+00</td>\n",
       "      <td>3269.000000</td>\n",
       "      <td>3.272576e+04</td>\n",
       "      <td>9.493380e+03</td>\n",
       "      <td>0.000000e+00</td>\n",
       "      <td>1.333724e+05</td>\n",
       "      <td>1.693489e+05</td>\n",
       "      <td>2024.0</td>\n",
       "      <td>2.644650e+03</td>\n",
       "      <td>1.693489e+05</td>\n",
       "    </tr>\n",
       "    <tr>\n",
       "      <th>50%</th>\n",
       "      <td>0.00000</td>\n",
       "      <td>6.000000</td>\n",
       "      <td>0.000000e+00</td>\n",
       "      <td>12686.000000</td>\n",
       "      <td>1.693489e+05</td>\n",
       "      <td>1.340924e+05</td>\n",
       "      <td>0.000000e+00</td>\n",
       "      <td>3.603815e+05</td>\n",
       "      <td>4.755086e+05</td>\n",
       "      <td>2024.0</td>\n",
       "      <td>2.442311e+04</td>\n",
       "      <td>3.932707e+05</td>\n",
       "    </tr>\n",
       "    <tr>\n",
       "      <th>75%</th>\n",
       "      <td>0.00000</td>\n",
       "      <td>6.000000</td>\n",
       "      <td>0.000000e+00</td>\n",
       "      <td>30357.000000</td>\n",
       "      <td>8.126508e+05</td>\n",
       "      <td>6.254909e+05</td>\n",
       "      <td>0.000000e+00</td>\n",
       "      <td>2.052676e+06</td>\n",
       "      <td>4.499964e+06</td>\n",
       "      <td>2024.0</td>\n",
       "      <td>4.545394e+05</td>\n",
       "      <td>7.030733e+06</td>\n",
       "    </tr>\n",
       "    <tr>\n",
       "      <th>max</th>\n",
       "      <td>91809.85000</td>\n",
       "      <td>8.000000</td>\n",
       "      <td>1.310027e+07</td>\n",
       "      <td>35272.000000</td>\n",
       "      <td>3.371202e+07</td>\n",
       "      <td>3.370902e+07</td>\n",
       "      <td>8.615340e+10</td>\n",
       "      <td>4.703095e+07</td>\n",
       "      <td>6.726700e+07</td>\n",
       "      <td>2024.0</td>\n",
       "      <td>3.608543e+07</td>\n",
       "      <td>8.615903e+10</td>\n",
       "    </tr>\n",
       "  </tbody>\n",
       "</table>\n",
       "</div>"
      ],
      "text/plain": [
       "       valReajustes  codModalidade  ...  valAnuladoEmpenho  valPrincipal\n",
       "count      50.00000      50.000000  ...       5.000000e+01  5.000000e+01\n",
       "mean     2029.16720       6.080000  ...       1.749744e+06  1.728810e+09\n",
       "std     12981.39342       0.395897  ...       5.719006e+06  1.218392e+10\n",
       "min         0.00000       6.000000  ...       0.000000e+00  4.354770e+03\n",
       "25%         0.00000       6.000000  ...       2.644650e+03  1.693489e+05\n",
       "50%         0.00000       6.000000  ...       2.442311e+04  3.932707e+05\n",
       "75%         0.00000       6.000000  ...       4.545394e+05  7.030733e+06\n",
       "max     91809.85000       8.000000  ...       3.608543e+07  8.615903e+10\n",
       "\n",
       "[8 rows x 12 columns]"
      ]
     },
     "execution_count": 9,
     "metadata": {},
     "output_type": "execute_result"
    }
   ],
   "source": [
    "df.describe()"
   ]
  },
  {
   "cell_type": "code",
   "execution_count": null,
   "metadata": {},
   "outputs": [],
   "source": [
    "cols_valores: list[str] = [col for col in df.columns if col.startswith('val')]"
   ]
  },
  {
   "cell_type": "code",
   "execution_count": 10,
   "metadata": {},
   "outputs": [
    {
     "data": {
      "text/plain": [
       "['valReajustes',\n",
       " 'valAditamentos',\n",
       " 'valLiquidado',\n",
       " 'valPago',\n",
       " 'valAnulacao',\n",
       " 'valEmpenhadoLiquido',\n",
       " 'valTotalEmpenhado',\n",
       " 'valAnuladoEmpenho',\n",
       " 'valPrincipal']"
      ]
     },
     "execution_count": 10,
     "metadata": {},
     "output_type": "execute_result"
    }
   ],
   "source": [
    "cols_valores"
   ]
  },
  {
   "cell_type": "code",
   "execution_count": 12,
   "metadata": {},
   "outputs": [],
   "source": [
    "cols_valores_interesse = ['valTotalEmpenhado', 'valEmpenhadoLiquido', 'valAditamentos', 'valReajustes', 'valPago']"
   ]
  },
  {
   "cell_type": "code",
   "execution_count": 19,
   "metadata": {},
   "outputs": [
    {
     "data": {
      "text/plain": [
       "np.float64(0.52)"
      ]
     },
     "execution_count": 19,
     "metadata": {},
     "output_type": "execute_result"
    }
   ],
   "source": [
    "((df['valTotalEmpenhado'] - df['valEmpenhadoLiquido']) == df['valAnuladoEmpenho']).mean()"
   ]
  },
  {
   "cell_type": "code",
   "execution_count": 24,
   "metadata": {},
   "outputs": [
    {
     "data": {
      "text/plain": [
       "np.float64(0.24)"
      ]
     },
     "execution_count": 24,
     "metadata": {},
     "output_type": "execute_result"
    }
   ],
   "source": [
    "((df['valTotalEmpenhado'] - df['valEmpenhadoLiquido']) == df['valAnulacao']).mean()"
   ]
  },
  {
   "cell_type": "code",
   "execution_count": 23,
   "metadata": {},
   "outputs": [
    {
     "data": {
      "text/plain": [
       "np.True_"
      ]
     },
     "execution_count": 23,
     "metadata": {},
     "output_type": "execute_result"
    }
   ],
   "source": [
    "(df['valTotalEmpenhado']>=df['valEmpenhadoLiquido']).all()"
   ]
  },
  {
   "cell_type": "code",
   "execution_count": 25,
   "metadata": {},
   "outputs": [],
   "source": [
    "df['valAnuladoEmpenho']  = df['valTotalEmpenhado'] - df['valEmpenhadoLiquido']"
   ]
  },
  {
   "cell_type": "code",
   "execution_count": 13,
   "metadata": {},
   "outputs": [
    {
     "data": {
      "text/plain": [
       "Index(['txtDescricaoModalidade', 'codEmpresa', 'codTipoContratacao',\n",
       "       'valReajustes', 'codProcesso', 'codModalidade', 'valAditamentos',\n",
       "       'codContrato', 'valLiquidado', 'codOrgao', 'valPago', 'valAnulacao',\n",
       "       'valEmpenhadoLiquido', 'valTotalEmpenhado', 'anoContrato',\n",
       "       'txtDescricaoOrgao', 'valAnuladoEmpenho', 'valPrincipal',\n",
       "       'txtTipoContratacao', 'txtObjetoContrato', 'datVigencia',\n",
       "       'datAssinaturaContrato', 'numOriginalContrato',\n",
       "       'datPublicacaoContrato'],\n",
       "      dtype='object')"
      ]
     },
     "execution_count": 13,
     "metadata": {},
     "output_type": "execute_result"
    }
   ],
   "source": [
    "df.columns"
   ]
  },
  {
   "cell_type": "code",
   "execution_count": 30,
   "metadata": {},
   "outputs": [],
   "source": [
    "cols_descricao_contrato = ['codProcesso', 'codContrato', 'txtDescricaoModalidade', 'txtTipoContratacao', 'txtObjetoContrato', 'datAssinaturaContrato', 'datVigencia']"
   ]
  },
  {
   "cell_type": "code",
   "execution_count": 31,
   "metadata": {},
   "outputs": [
    {
     "data": {
      "text/html": [
       "<div>\n",
       "<style scoped>\n",
       "    .dataframe tbody tr th:only-of-type {\n",
       "        vertical-align: middle;\n",
       "    }\n",
       "\n",
       "    .dataframe tbody tr th {\n",
       "        vertical-align: top;\n",
       "    }\n",
       "\n",
       "    .dataframe thead th {\n",
       "        text-align: right;\n",
       "    }\n",
       "</style>\n",
       "<table border=\"1\" class=\"dataframe\">\n",
       "  <thead>\n",
       "    <tr style=\"text-align: right;\">\n",
       "      <th></th>\n",
       "      <th>codProcesso</th>\n",
       "      <th>codContrato</th>\n",
       "      <th>txtDescricaoModalidade</th>\n",
       "      <th>txtTipoContratacao</th>\n",
       "      <th>txtObjetoContrato</th>\n",
       "      <th>datAssinaturaContrato</th>\n",
       "      <th>datVigencia</th>\n",
       "    </tr>\n",
       "  </thead>\n",
       "  <tbody>\n",
       "    <tr>\n",
       "      <th>0</th>\n",
       "      <td>9310202400022280</td>\n",
       "      <td>18</td>\n",
       "      <td>Dispensa de Licitação</td>\n",
       "      <td>Nota de Empenho para Fornecimento de Serviços</td>\n",
       "      <td>Prestação dos serviços de Comunicação de Dados...</td>\n",
       "      <td>None</td>\n",
       "      <td>None</td>\n",
       "    </tr>\n",
       "    <tr>\n",
       "      <th>1</th>\n",
       "      <td>000113512023</td>\n",
       "      <td>18</td>\n",
       "      <td>Dispensa de Licitação</td>\n",
       "      <td>Termo de Contrato - Serviços</td>\n",
       "      <td>Prestação de serviços de sustentação e melhori...</td>\n",
       "      <td>03/03/2024 00:00:00</td>\n",
       "      <td>02/03/2026 00:00:00</td>\n",
       "    </tr>\n",
       "    <tr>\n",
       "      <th>2</th>\n",
       "      <td>7810202400008736</td>\n",
       "      <td>35</td>\n",
       "      <td>Não Aplicável</td>\n",
       "      <td>Nota de Empenho para Fornecimento de Serviços ...</td>\n",
       "      <td>Prestação de Serviços de SUSTENTAÇÃO DE TIC pa...</td>\n",
       "      <td>12/07/2024 00:00:00</td>\n",
       "      <td>15/07/2026 00:00:00</td>\n",
       "    </tr>\n",
       "    <tr>\n",
       "      <th>3</th>\n",
       "      <td>000022682024</td>\n",
       "      <td>52</td>\n",
       "      <td>Dispensa de Licitação</td>\n",
       "      <td>Termo de Contrato - Serviços</td>\n",
       "      <td>Prestação de Serviços de Sustentação de TIC, r...</td>\n",
       "      <td>04/04/2024 00:00:00</td>\n",
       "      <td>04/04/2026 00:00:00</td>\n",
       "    </tr>\n",
       "    <tr>\n",
       "      <th>4</th>\n",
       "      <td>8510202400006786</td>\n",
       "      <td>148</td>\n",
       "      <td>Dispensa de Licitação</td>\n",
       "      <td>Termo de Contrato - Serviços</td>\n",
       "      <td>Contratação de serviços de sustentação e melho...</td>\n",
       "      <td>24/10/2024 00:00:00</td>\n",
       "      <td>27/10/2025 00:00:00</td>\n",
       "    </tr>\n",
       "  </tbody>\n",
       "</table>\n",
       "</div>"
      ],
      "text/plain": [
       "        codProcesso  codContrato  ... datAssinaturaContrato          datVigencia\n",
       "0  9310202400022280           18  ...                  None                 None\n",
       "1      000113512023           18  ...   03/03/2024 00:00:00  02/03/2026 00:00:00\n",
       "2  7810202400008736           35  ...   12/07/2024 00:00:00  15/07/2026 00:00:00\n",
       "3      000022682024           52  ...   04/04/2024 00:00:00  04/04/2026 00:00:00\n",
       "4  8510202400006786          148  ...   24/10/2024 00:00:00  27/10/2025 00:00:00\n",
       "\n",
       "[5 rows x 7 columns]"
      ]
     },
     "execution_count": 31,
     "metadata": {},
     "output_type": "execute_result"
    }
   ],
   "source": [
    "df[cols_descricao_contrato].head()"
   ]
  },
  {
   "cell_type": "code",
   "execution_count": 32,
   "metadata": {},
   "outputs": [],
   "source": [
    "cols_secretaria = ['txtDescricaoOrgao']\n"
   ]
  },
  {
   "cell_type": "code",
   "execution_count": 33,
   "metadata": {},
   "outputs": [],
   "source": [
    "cols_interesse_todas = cols_secretaria + cols_descricao_contrato + cols_valores_interesse"
   ]
  },
  {
   "cell_type": "code",
   "execution_count": 35,
   "metadata": {},
   "outputs": [
    {
     "data": {
      "text/html": [
       "<div>\n",
       "<style scoped>\n",
       "    .dataframe tbody tr th:only-of-type {\n",
       "        vertical-align: middle;\n",
       "    }\n",
       "\n",
       "    .dataframe tbody tr th {\n",
       "        vertical-align: top;\n",
       "    }\n",
       "\n",
       "    .dataframe thead th {\n",
       "        text-align: right;\n",
       "    }\n",
       "</style>\n",
       "<table border=\"1\" class=\"dataframe\">\n",
       "  <thead>\n",
       "    <tr style=\"text-align: right;\">\n",
       "      <th></th>\n",
       "      <th>txtDescricaoOrgao</th>\n",
       "      <th>codProcesso</th>\n",
       "      <th>codContrato</th>\n",
       "      <th>txtDescricaoModalidade</th>\n",
       "      <th>txtTipoContratacao</th>\n",
       "      <th>txtObjetoContrato</th>\n",
       "      <th>datAssinaturaContrato</th>\n",
       "      <th>datVigencia</th>\n",
       "      <th>valTotalEmpenhado</th>\n",
       "      <th>valEmpenhadoLiquido</th>\n",
       "      <th>valAditamentos</th>\n",
       "      <th>valReajustes</th>\n",
       "      <th>valPago</th>\n",
       "    </tr>\n",
       "  </thead>\n",
       "  <tbody>\n",
       "    <tr>\n",
       "      <th>0</th>\n",
       "      <td>Agência Reg. de Serv. Públicos do Mun de São P...</td>\n",
       "      <td>9310202400022280</td>\n",
       "      <td>18</td>\n",
       "      <td>Dispensa de Licitação</td>\n",
       "      <td>Nota de Empenho para Fornecimento de Serviços</td>\n",
       "      <td>Prestação dos serviços de Comunicação de Dados...</td>\n",
       "      <td>None</td>\n",
       "      <td>None</td>\n",
       "      <td>3817.33</td>\n",
       "      <td>0.00</td>\n",
       "      <td>0.00</td>\n",
       "      <td>0.0</td>\n",
       "      <td>0.00</td>\n",
       "    </tr>\n",
       "    <tr>\n",
       "      <th>1</th>\n",
       "      <td>Tribunal de Contas do Município de São Paulo</td>\n",
       "      <td>000113512023</td>\n",
       "      <td>18</td>\n",
       "      <td>Dispensa de Licitação</td>\n",
       "      <td>Termo de Contrato - Serviços</td>\n",
       "      <td>Prestação de serviços de sustentação e melhori...</td>\n",
       "      <td>03/03/2024 00:00:00</td>\n",
       "      <td>02/03/2026 00:00:00</td>\n",
       "      <td>1695406.64</td>\n",
       "      <td>1693130.44</td>\n",
       "      <td>1065260.33</td>\n",
       "      <td>0.0</td>\n",
       "      <td>797790.27</td>\n",
       "    </tr>\n",
       "    <tr>\n",
       "      <th>2</th>\n",
       "      <td>São Paulo Urbanismo</td>\n",
       "      <td>7810202400008736</td>\n",
       "      <td>35</td>\n",
       "      <td>Não Aplicável</td>\n",
       "      <td>Nota de Empenho para Fornecimento de Serviços ...</td>\n",
       "      <td>Prestação de Serviços de SUSTENTAÇÃO DE TIC pa...</td>\n",
       "      <td>12/07/2024 00:00:00</td>\n",
       "      <td>15/07/2026 00:00:00</td>\n",
       "      <td>614240.42</td>\n",
       "      <td>572450.41</td>\n",
       "      <td>0.00</td>\n",
       "      <td>0.0</td>\n",
       "      <td>179126.15</td>\n",
       "    </tr>\n",
       "    <tr>\n",
       "      <th>3</th>\n",
       "      <td>Tribunal de Contas do Município de São Paulo</td>\n",
       "      <td>000022682024</td>\n",
       "      <td>52</td>\n",
       "      <td>Dispensa de Licitação</td>\n",
       "      <td>Termo de Contrato - Serviços</td>\n",
       "      <td>Prestação de Serviços de Sustentação de TIC, r...</td>\n",
       "      <td>04/04/2024 00:00:00</td>\n",
       "      <td>04/04/2026 00:00:00</td>\n",
       "      <td>469019.66</td>\n",
       "      <td>453589.65</td>\n",
       "      <td>260850.30</td>\n",
       "      <td>0.0</td>\n",
       "      <td>215100.74</td>\n",
       "    </tr>\n",
       "    <tr>\n",
       "      <th>4</th>\n",
       "      <td>Fundação Theatro Municipal de São Paulo</td>\n",
       "      <td>8510202400006786</td>\n",
       "      <td>148</td>\n",
       "      <td>Dispensa de Licitação</td>\n",
       "      <td>Termo de Contrato - Serviços</td>\n",
       "      <td>Contratação de serviços de sustentação e melho...</td>\n",
       "      <td>24/10/2024 00:00:00</td>\n",
       "      <td>27/10/2025 00:00:00</td>\n",
       "      <td>290704.01</td>\n",
       "      <td>281963.09</td>\n",
       "      <td>0.00</td>\n",
       "      <td>0.0</td>\n",
       "      <td>65262.94</td>\n",
       "    </tr>\n",
       "  </tbody>\n",
       "</table>\n",
       "</div>"
      ],
      "text/plain": [
       "                                   txtDescricaoOrgao  ...    valPago\n",
       "0  Agência Reg. de Serv. Públicos do Mun de São P...  ...       0.00\n",
       "1       Tribunal de Contas do Município de São Paulo  ...  797790.27\n",
       "2                                São Paulo Urbanismo  ...  179126.15\n",
       "3       Tribunal de Contas do Município de São Paulo  ...  215100.74\n",
       "4            Fundação Theatro Municipal de São Paulo  ...   65262.94\n",
       "\n",
       "[5 rows x 13 columns]"
      ]
     },
     "execution_count": 35,
     "metadata": {},
     "output_type": "execute_result"
    }
   ],
   "source": [
    "df[cols_interesse_todas].head()"
   ]
  },
  {
   "cell_type": "code",
   "execution_count": 36,
   "metadata": {},
   "outputs": [],
   "source": [
    "from utils.serialize_df import df_to_parquet"
   ]
  },
  {
   "cell_type": "code",
   "execution_count": 38,
   "metadata": {},
   "outputs": [
    {
     "data": {
      "text/plain": [
       "'data/dados_contratos_prodam_limpos.parquet'"
      ]
     },
     "execution_count": 38,
     "metadata": {},
     "output_type": "execute_result"
    }
   ],
   "source": [
    "df_to_parquet(df, 'dados_contratos_prodam_limpos.parquet')"
   ]
  },
  {
   "cell_type": "code",
   "execution_count": null,
   "metadata": {},
   "outputs": [],
   "source": []
  }
 ],
 "metadata": {
  "kernelspec": {
   "display_name": "venv",
   "language": "python",
   "name": "python3"
  },
  "language_info": {
   "codemirror_mode": {
    "name": "ipython",
    "version": 3
   },
   "file_extension": ".py",
   "mimetype": "text/x-python",
   "name": "python",
   "nbconvert_exporter": "python",
   "pygments_lexer": "ipython3",
   "version": "3.12.3"
  }
 },
 "nbformat": 4,
 "nbformat_minor": 2
}
